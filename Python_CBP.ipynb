{
 "cells": [
  {
   "cell_type": "markdown",
   "metadata": {
    "id": "oFelHDiTxMNV"
   },
   "source": [
    "Importing the libraries"
   ]
  },
  {
   "cell_type": "code",
   "execution_count": 1,
   "metadata": {
    "id": "n_-2ukkbwOrr"
   },
   "outputs": [],
   "source": [
    "import numpy as np\n",
    "import matplotlib.pyplot as plt\n",
    "import pandas as pd"
   ]
  },
  {
   "cell_type": "markdown",
   "metadata": {
    "id": "TTIYbJhdy9SO"
   },
   "source": [
    "Importing the dataset"
   ]
  },
  {
   "cell_type": "code",
   "execution_count": 2,
   "metadata": {
    "id": "nIuoIgT3y8la"
   },
   "outputs": [],
   "source": [
    "dataset = pd.read_csv('amazon_reviews_us_Electronics_v1_00.tsv',delimiter = '\\t', quoting = 3,nrows=10000)\n",
    "dataset2 = pd.read_csv('amazon_reviews_us_Apparel_v1_00.tsv',delimiter = '\\t', quoting = 3,nrows=10000)\n",
    "dataset = pd.concat([dataset,dataset2])\n",
    "dataset = dataset.reset_index()"
   ]
  },
  {
   "cell_type": "markdown",
   "metadata": {
    "id": "EriMj1DNzd1r"
   },
   "source": [
    "Stemming and removing the stop words"
   ]
  },
  {
   "cell_type": "code",
   "execution_count": 3,
   "metadata": {
    "colab": {
     "base_uri": "https://localhost:8080/"
    },
    "id": "oZmDFicwzfpE",
    "outputId": "5b62ced9-628e-4077-cb33-1c0d7c4c8f5d"
   },
   "outputs": [
    {
     "name": "stderr",
     "output_type": "stream",
     "text": [
      "[nltk_data] Downloading package stopwords to\n",
      "[nltk_data]     /Users/gauthammallipeddi/nltk_data...\n",
      "[nltk_data]   Package stopwords is already up-to-date!\n"
     ]
    }
   ],
   "source": [
    "import re\n",
    "import nltk\n",
    "nltk.download('stopwords')\n",
    "from nltk.corpus import stopwords\n",
    "from nltk.stem.porter import PorterStemmer\n",
    "corpus = []\n",
    "for i in range(len(dataset)):\n",
    "  review = re.sub('[^a-zA-z]',' ',str(dataset['review_body'][i])+' '+str(dataset['review_headline'][i]))\n",
    "  review = review.lower()\n",
    "  review = review.split()\n",
    "  ps = PorterStemmer()\n",
    "  all_stopwords = stopwords.words('english')\n",
    "  all_stopwords.remove('not')\n",
    "  review = [ps.stem(word) for word in review if not word in set(all_stopwords)]\n",
    "  review = ' '.join(review)\n",
    "  corpus.append(review)"
   ]
  },
  {
   "cell_type": "markdown",
   "metadata": {
    "id": "AVaK4BSO2JxU"
   },
   "source": [
    "Bag of words"
   ]
  },
  {
   "cell_type": "code",
   "execution_count": 4,
   "metadata": {
    "id": "nKQJYOy314uQ"
   },
   "outputs": [],
   "source": [
    "from sklearn.feature_extraction.text import CountVectorizer\n",
    "cv = CountVectorizer(max_features=10000)\n",
    "X = cv.fit_transform(corpus).toarray()\n",
    "y = dataset.iloc[:,-8].values"
   ]
  },
  {
   "cell_type": "code",
   "execution_count": 5,
   "metadata": {
    "colab": {
     "base_uri": "https://localhost:8080/"
    },
    "id": "QibQ6zfl2ZF3",
    "outputId": "15fa90ea-db38-498d-be72-6d5f14d860c5"
   },
   "outputs": [
    {
     "name": "stdout",
     "output_type": "stream",
     "text": [
      "10000\n"
     ]
    }
   ],
   "source": [
    "print(len(X[0]))"
   ]
  },
  {
   "cell_type": "markdown",
   "metadata": {
    "id": "8CmDhJqP26CL"
   },
   "source": [
    "Training and testing split"
   ]
  },
  {
   "cell_type": "code",
   "execution_count": 6,
   "metadata": {
    "id": "aHMOM57G2xJO"
   },
   "outputs": [],
   "source": [
    "from sklearn.model_selection import train_test_split\n",
    "X_train, X_test, y_train, y_test = train_test_split(X, y, test_size = 0.2, random_state = 0)"
   ]
  },
  {
   "cell_type": "markdown",
   "metadata": {
    "id": "jYWjb6r9_jvn"
   },
   "source": [
    "Feature selection"
   ]
  },
  {
   "cell_type": "code",
   "execution_count": 7,
   "metadata": {
    "id": "rg-XUIQz_jvo"
   },
   "outputs": [],
   "source": [
    "# from sklearn.preprocessing import StandardScaler\n",
    "# sc = StandardScaler()\n",
    "# X_train = sc.fit_transform(X_train)\n",
    "# X_test = sc.transform(X_test)"
   ]
  },
  {
   "cell_type": "markdown",
   "metadata": {
    "id": "f2lfXmJL3CIZ"
   },
   "source": [
    "Classification"
   ]
  },
  {
   "cell_type": "code",
   "execution_count": 8,
   "metadata": {
    "colab": {
     "base_uri": "https://localhost:8080/"
    },
    "id": "wackxAYz2-5V",
    "outputId": "a8ca3f79-f074-4385-d052-53a6bf3bf9d5"
   },
   "outputs": [
    {
     "data": {
      "text/plain": [
       "RandomForestClassifier(criterion='entropy', n_estimators=40)"
      ]
     },
     "execution_count": 8,
     "metadata": {},
     "output_type": "execute_result"
    }
   ],
   "source": [
    "from sklearn.ensemble import RandomForestClassifier\n",
    "classifier = RandomForestClassifier(n_estimators = 40,criterion='entropy')\n",
    "classifier.fit(X_train, y_train)\n"
   ]
  },
  {
   "cell_type": "markdown",
   "metadata": {
    "id": "HDysRuxlOtQp"
   },
   "source": [
    "Predicting the test results"
   ]
  },
  {
   "cell_type": "code",
   "execution_count": 9,
   "metadata": {
    "id": "uazQlSL73Ekf"
   },
   "outputs": [],
   "source": [
    "y_pred = classifier.predict(X_test)"
   ]
  },
  {
   "cell_type": "code",
   "execution_count": 10,
   "metadata": {
    "colab": {
     "base_uri": "https://localhost:8080/"
    },
    "id": "mItwfN89PKVD",
    "outputId": "11192ffc-50b7-4a9c-b64e-da315011764a"
   },
   "outputs": [
    {
     "name": "stdout",
     "output_type": "stream",
     "text": [
      "[[5 5]\n",
      " [5 5]\n",
      " [5 5]\n",
      " ...\n",
      " [5 2]\n",
      " [5 4]\n",
      " [5 5]]\n"
     ]
    }
   ],
   "source": [
    "print(np.concatenate((y_pred.reshape(len(y_pred),1), y_test.reshape(len(y_test),1)),1))"
   ]
  },
  {
   "cell_type": "markdown",
   "metadata": {
    "id": "qChsEv47PWc6"
   },
   "source": [
    "Accuracy score"
   ]
  },
  {
   "cell_type": "code",
   "execution_count": 11,
   "metadata": {
    "colab": {
     "base_uri": "https://localhost:8080/"
    },
    "id": "sBVr68QkPS8v",
    "outputId": "a9a63fc5-6148-4456-82f2-21b688973b00"
   },
   "outputs": [
    {
     "name": "stdout",
     "output_type": "stream",
     "text": [
      "[[ 337    4    4    8  122]\n",
      " [  50   54    2    6  100]\n",
      " [  34    4   79   11  165]\n",
      " [  10    0    2  182  382]\n",
      " [  12    1    6   11 2414]]\n"
     ]
    },
    {
     "data": {
      "text/plain": [
       "0.7665"
      ]
     },
     "execution_count": 11,
     "metadata": {},
     "output_type": "execute_result"
    }
   ],
   "source": [
    "from sklearn.metrics import confusion_matrix, accuracy_score\n",
    "cm = confusion_matrix(y_test, y_pred)\n",
    "print(cm)\n",
    "accuracy_score(y_test, y_pred)"
   ]
  },
  {
   "cell_type": "code",
   "execution_count": 12,
   "metadata": {
    "colab": {
     "base_uri": "https://localhost:8080/"
    },
    "id": "cb8nBZ7j_jvq",
    "outputId": "b9c4d835-8131-45f7-9edd-225b6714c8b7"
   },
   "outputs": [],
   "source": [
    "def TodoFunction(new_review=-1):\n",
    "    if(new_review==-1):\n",
    "        new_review = inputtxt.get(1.0, \"end-1c\")\n",
    "    new_review = new_review.lower()\n",
    "    new_review = new_review.split()\n",
    "    ps = PorterStemmer()\n",
    "    all_stopwords = stopwords.words('english')\n",
    "    all_stopwords.remove('not')\n",
    "    new_review = [ps.stem(word) for word in new_review if not word in set(all_stopwords)]\n",
    "    new_review = ' '.join(new_review)\n",
    "    new_corpus = [new_review]\n",
    "    print(new_corpus)\n",
    "    new_X_test = cv.transform(new_corpus).toarray()\n",
    "    print(new_X_test)\n",
    "    new_y_pred = classifier.predict(new_X_test)\n",
    "    print(new_y_pred)"
   ]
  },
  {
   "cell_type": "markdown",
   "metadata": {
    "id": "1BjzbVh6fT0-"
   },
   "source": [
    "GUI (Ignore the below cell on Google colab)"
   ]
  },
  {
   "cell_type": "code",
   "execution_count": 13,
   "metadata": {},
   "outputs": [
    {
     "name": "stdout",
     "output_type": "stream",
     "text": [
      "['good']\n",
      "[[0 0 0 ... 0 0 0]]\n",
      "[5]\n",
      "['good']\n",
      "[[0 0 0 ... 0 0 0]]\n",
      "[5]\n"
     ]
    }
   ],
   "source": [
    "import tkinter as tk\n",
    "frame = tk.Tk()\n",
    "frame.title(\"Submit Your Review\")\n",
    "frame.geometry('400x200')\n",
    "  \n",
    "\n",
    "inputtxt = tk.Text(frame,height = 5,width = 20)\n",
    "  \n",
    "inputtxt.pack()\n",
    "\n",
    "submitButton = tk.Button(frame,\n",
    "                        text = \"Submit\", \n",
    "                        command = TodoFunction)\n",
    "submitButton.pack()\n",
    "\n",
    "lbl = tk.Label(frame, text = \"\")\n",
    "lbl.pack()\n",
    "frame.mainloop()"
   ]
  },
  {
   "cell_type": "markdown",
   "metadata": {},
   "source": [
    "User input cell (Use this cell on Google colab)"
   ]
  },
  {
   "cell_type": "code",
   "execution_count": 16,
   "metadata": {},
   "outputs": [
    {
     "name": "stdout",
     "output_type": "stream",
     "text": [
      "Enter the review:Bad\n",
      "['bad']\n",
      "[[0 0 0 ... 0 0 0]]\n",
      "[1]\n"
     ]
    }
   ],
   "source": [
    "new_review = input(\"Enter the review:\")\n",
    "TodoFunction(new_review)"
   ]
  },
  {
   "cell_type": "code",
   "execution_count": null,
   "metadata": {},
   "outputs": [],
   "source": []
  }
 ],
 "metadata": {
  "colab": {
   "name": "Python_CBP.ipynb",
   "provenance": []
  },
  "kernelspec": {
   "display_name": "Python 3",
   "language": "python",
   "name": "python3"
  },
  "language_info": {
   "codemirror_mode": {
    "name": "ipython",
    "version": 3
   },
   "file_extension": ".py",
   "mimetype": "text/x-python",
   "name": "python",
   "nbconvert_exporter": "python",
   "pygments_lexer": "ipython3",
   "version": "3.8.8"
  }
 },
 "nbformat": 4,
 "nbformat_minor": 1
}
